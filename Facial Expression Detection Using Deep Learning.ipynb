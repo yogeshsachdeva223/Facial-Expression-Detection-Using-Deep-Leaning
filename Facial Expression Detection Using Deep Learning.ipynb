{
 "cells": [
  {
   "cell_type": "code",
   "execution_count": 80,
   "id": "e471878d",
   "metadata": {},
   "outputs": [],
   "source": [
    "import numpy as np\n",
    "import argparse\n",
    "import matplotlib.pyplot as plt\n",
    "import cv2\n",
    "from tensorflow.keras.models import Sequential\n",
    "from tensorflow.keras.layers import Dense, Dropout, Flatten\n",
    "from tensorflow.keras.layers import Conv2D\n",
    "from tensorflow.keras.optimizers import Adam\n",
    "from tensorflow.keras.layers import MaxPooling2D\n",
    "from tensorflow.keras.preprocessing.image import ImageDataGenerator\n",
    "import os"
   ]
  },
  {
   "cell_type": "code",
   "execution_count": 81,
   "id": "0a96babc",
   "metadata": {},
   "outputs": [],
   "source": [
    "os.environ['TF_CPP_MIN_LOG_LEVEL'] = '2'"
   ]
  },
  {
   "cell_type": "code",
   "execution_count": 83,
   "id": "7bd375ba",
   "metadata": {},
   "outputs": [],
   "source": [
    "# plots accuracy and loss curves\n",
    "def plot_model_history(model_history):\n",
    "    \"\"\"\n",
    "    Plot Accuracy and Loss curves given the model_history\n",
    "    \"\"\"\n",
    "    fig, axs = plt.subplots(1,2,figsize=(15,5))\n",
    "    # summarize history for accuracy\n",
    "    axs[0].plot(range(1,len(model_history.history['accuracy'])+1),model_history.history['accuracy'])\n",
    "    axs[0].plot(range(1,len(model_history.history['val_accuracy'])+1),model_history.history['val_accuracy'])\n",
    "    axs[0].set_title('Model Accuracy')\n",
    "    axs[0].set_ylabel('Accuracy')\n",
    "    axs[0].set_xlabel('Epoch')\n",
    "    axs[0].set_xticks(np.arange(1,len(model_history.history['accuracy'])+1),len(model_history.history['accuracy'])/10)\n",
    "    axs[0].legend(['train', 'val'], loc='best')\n",
    "    # summarize history for loss\n",
    "    axs[1].plot(range(1,len(model_history.history['loss'])+1),model_history.history['loss'])\n",
    "    axs[1].plot(range(1,len(model_history.history['val_loss'])+1),model_history.history['val_loss'])\n",
    "    axs[1].set_title('Model Loss')\n",
    "    axs[1].set_ylabel('Loss')\n",
    "    axs[1].set_xlabel('Epoch')\n",
    "    axs[1].set_xticks(np.arange(1,len(model_history.history['loss'])+1),len(model_history.history['loss'])/10)\n",
    "    axs[1].legend(['train', 'val'], loc='best')\n",
    "    fig.savefig('plot.png')\n",
    "    plt.show()\n"
   ]
  },
  {
   "cell_type": "code",
   "execution_count": 84,
   "id": "3d0ad4a8",
   "metadata": {},
   "outputs": [
    {
     "name": "stdout",
     "output_type": "stream",
     "text": [
      "Found 28709 images belonging to 7 classes.\n",
      "Found 7178 images belonging to 7 classes.\n"
     ]
    }
   ],
   "source": [
    "# Define data generators\n",
    "train_dir = 'data/train'\n",
    "val_dir = 'data/test'\n",
    "\n",
    "num_train = 28709\n",
    "num_val = 7178\n",
    "batch_size = 32\n",
    "num_epoch = 10\n",
    "\n",
    "train_datagen = ImageDataGenerator(rescale=1./255)\n",
    "val_datagen = ImageDataGenerator(rescale=1./255)\n",
    "\n",
    "train_generator = train_datagen.flow_from_directory(\n",
    "        train_dir,\n",
    "        target_size=(48,48),\n",
    "        batch_size=batch_size,\n",
    "        color_mode=\"grayscale\",\n",
    "        class_mode='categorical')\n",
    "\n",
    "validation_generator = val_datagen.flow_from_directory(\n",
    "        val_dir,\n",
    "        target_size=(48,48),\n",
    "        batch_size=batch_size,\n",
    "        color_mode=\"grayscale\",\n",
    "        class_mode='categorical')"
   ]
  },
  {
   "cell_type": "code",
   "execution_count": 85,
   "id": "7b7c024b",
   "metadata": {},
   "outputs": [],
   "source": [
    "# Create the model\n",
    "model = Sequential()\n",
    "\n",
    "model.add(Conv2D(32, kernel_size=(3, 3), activation='relu', input_shape=(48,48,1)))\n",
    "model.add(Conv2D(64, kernel_size=(3, 3), activation='relu'))\n",
    "model.add(MaxPooling2D(pool_size=(2, 2)))\n",
    "model.add(Dropout(0.25))\n",
    "\n",
    "model.add(Conv2D(128, kernel_size=(3, 3), activation='relu'))\n",
    "model.add(MaxPooling2D(pool_size=(2, 2)))\n",
    "model.add(Conv2D(128, kernel_size=(3, 3), activation='relu'))\n",
    "model.add(MaxPooling2D(pool_size=(2, 2)))\n",
    "model.add(Dropout(0.25))\n",
    "\n",
    "model.add(Flatten())\n",
    "model.add(Dense(1024, activation='relu'))\n",
    "model.add(Dropout(0.5))\n",
    "model.add(Dense(7, activation='softmax'))"
   ]
  },
  {
   "cell_type": "code",
   "execution_count": 86,
   "id": "0c6c85d9",
   "metadata": {},
   "outputs": [],
   "source": [
    "model.compile(optimizer='adam',loss='categorical_crossentropy',metrics=['accuracy'])"
   ]
  },
  {
   "cell_type": "code",
   "execution_count": 87,
   "id": "abc8c99c",
   "metadata": {},
   "outputs": [],
   "source": [
    "epochs = 10\n",
    "batch_size = 32"
   ]
  },
  {
   "cell_type": "code",
   "execution_count": 88,
   "id": "3d38355e",
   "metadata": {},
   "outputs": [
    {
     "name": "stdout",
     "output_type": "stream",
     "text": [
      "Model: \"sequential_3\"\n",
      "_________________________________________________________________\n",
      " Layer (type)                Output Shape              Param #   \n",
      "=================================================================\n",
      " conv2d_12 (Conv2D)          (None, 46, 46, 32)        320       \n",
      "                                                                 \n",
      " conv2d_13 (Conv2D)          (None, 44, 44, 64)        18496     \n",
      "                                                                 \n",
      " max_pooling2d_9 (MaxPooling  (None, 22, 22, 64)       0         \n",
      " 2D)                                                             \n",
      "                                                                 \n",
      " dropout_9 (Dropout)         (None, 22, 22, 64)        0         \n",
      "                                                                 \n",
      " conv2d_14 (Conv2D)          (None, 20, 20, 128)       73856     \n",
      "                                                                 \n",
      " max_pooling2d_10 (MaxPoolin  (None, 10, 10, 128)      0         \n",
      " g2D)                                                            \n",
      "                                                                 \n",
      " conv2d_15 (Conv2D)          (None, 8, 8, 128)         147584    \n",
      "                                                                 \n",
      " max_pooling2d_11 (MaxPoolin  (None, 4, 4, 128)        0         \n",
      " g2D)                                                            \n",
      "                                                                 \n",
      " dropout_10 (Dropout)        (None, 4, 4, 128)         0         \n",
      "                                                                 \n",
      " flatten_3 (Flatten)         (None, 2048)              0         \n",
      "                                                                 \n",
      " dense_6 (Dense)             (None, 1024)              2098176   \n",
      "                                                                 \n",
      " dropout_11 (Dropout)        (None, 1024)              0         \n",
      "                                                                 \n",
      " dense_7 (Dense)             (None, 7)                 7175      \n",
      "                                                                 \n",
      "=================================================================\n",
      "Total params: 2,345,607\n",
      "Trainable params: 2,345,607\n",
      "Non-trainable params: 0\n",
      "_________________________________________________________________\n"
     ]
    }
   ],
   "source": [
    "model.summary()"
   ]
  },
  {
   "cell_type": "code",
   "execution_count": 89,
   "id": "a5931700",
   "metadata": {},
   "outputs": [],
   "source": [
    "#early stopping"
   ]
  },
  {
   "cell_type": "code",
   "execution_count": 90,
   "id": "dfae7daf",
   "metadata": {},
   "outputs": [],
   "source": [
    "from tensorflow.keras.preprocessing.image import ImageDataGenerator\n",
    "import cv2\n",
    "from tensorflow.keras.applications import VGG16, InceptionResNetV2\n",
    "from tensorflow.keras.callbacks import EarlyStopping\n",
    "from tensorflow.keras.callbacks import ModelCheckpoint\n",
    "from tensorflow.keras.models import load_model\n",
    "from keras import regularizers\n",
    "from tensorflow.keras.optimizers import Adam,RMSprop,SGD,Adamax"
   ]
  },
  {
   "cell_type": "code",
   "execution_count": 91,
   "id": "d06ac171",
   "metadata": {},
   "outputs": [],
   "source": [
    "# Simple early stopping\n",
    "es = EarlyStopping(monitor='val_loss', mode='min', verbose=1, patience=8)\n",
    "mc = ModelCheckpoint('best_model.h5', monitor='val_accuracy', mode='max', verbose=1, save_best_only=True)"
   ]
  },
  {
   "cell_type": "code",
   "execution_count": 92,
   "id": "445cad44",
   "metadata": {},
   "outputs": [
    {
     "name": "stdout",
     "output_type": "stream",
     "text": [
      "Epoch 1/10\n",
      "898/898 [==============================] - ETA: 0s - loss: 1.7115 - accuracy: 0.3046\n",
      "Epoch 1: val_accuracy improved from -inf to 0.42366, saving model to best_model.h5\n",
      "898/898 [==============================] - 179s 199ms/step - loss: 1.7115 - accuracy: 0.3046 - val_loss: 1.4668 - val_accuracy: 0.4237\n",
      "Epoch 2/10\n",
      "898/898 [==============================] - ETA: 0s - loss: 1.4113 - accuracy: 0.4515\n",
      "Epoch 2: val_accuracy improved from 0.42366 to 0.49526, saving model to best_model.h5\n",
      "898/898 [==============================] - 189s 210ms/step - loss: 1.4113 - accuracy: 0.4515 - val_loss: 1.2989 - val_accuracy: 0.4953\n",
      "Epoch 3/10\n",
      "898/898 [==============================] - ETA: 0s - loss: 1.2808 - accuracy: 0.5086\n",
      "Epoch 3: val_accuracy improved from 0.49526 to 0.54472, saving model to best_model.h5\n",
      "898/898 [==============================] - 192s 214ms/step - loss: 1.2808 - accuracy: 0.5086 - val_loss: 1.2001 - val_accuracy: 0.5447\n",
      "Epoch 4/10\n",
      "898/898 [==============================] - ETA: 0s - loss: 1.2112 - accuracy: 0.5388\n",
      "Epoch 4: val_accuracy improved from 0.54472 to 0.54946, saving model to best_model.h5\n",
      "898/898 [==============================] - 196s 219ms/step - loss: 1.2112 - accuracy: 0.5388 - val_loss: 1.1900 - val_accuracy: 0.5495\n",
      "Epoch 5/10\n",
      "898/898 [==============================] - ETA: 0s - loss: 1.1619 - accuracy: 0.5602\n",
      "Epoch 5: val_accuracy improved from 0.54946 to 0.56395, saving model to best_model.h5\n",
      "898/898 [==============================] - 197s 219ms/step - loss: 1.1619 - accuracy: 0.5602 - val_loss: 1.1407 - val_accuracy: 0.5639\n",
      "Epoch 6/10\n",
      "898/898 [==============================] - ETA: 0s - loss: 1.1137 - accuracy: 0.5779\n",
      "Epoch 6: val_accuracy improved from 0.56395 to 0.56687, saving model to best_model.h5\n",
      "898/898 [==============================] - 195s 217ms/step - loss: 1.1137 - accuracy: 0.5779 - val_loss: 1.1480 - val_accuracy: 0.5669\n",
      "Epoch 7/10\n",
      "898/898 [==============================] - ETA: 0s - loss: 1.0749 - accuracy: 0.5931\n",
      "Epoch 7: val_accuracy improved from 0.56687 to 0.58122, saving model to best_model.h5\n",
      "898/898 [==============================] - 198s 221ms/step - loss: 1.0749 - accuracy: 0.5931 - val_loss: 1.1094 - val_accuracy: 0.5812\n",
      "Epoch 8/10\n",
      "898/898 [==============================] - ETA: 0s - loss: 1.0379 - accuracy: 0.6101\n",
      "Epoch 8: val_accuracy improved from 0.58122 to 0.58679, saving model to best_model.h5\n",
      "898/898 [==============================] - 215s 239ms/step - loss: 1.0379 - accuracy: 0.6101 - val_loss: 1.0984 - val_accuracy: 0.5868\n",
      "Epoch 9/10\n",
      "898/898 [==============================] - ETA: 0s - loss: 0.9983 - accuracy: 0.6254\n",
      "Epoch 9: val_accuracy improved from 0.58679 to 0.58819, saving model to best_model.h5\n",
      "898/898 [==============================] - 190s 211ms/step - loss: 0.9983 - accuracy: 0.6254 - val_loss: 1.0944 - val_accuracy: 0.5882\n",
      "Epoch 10/10\n",
      "898/898 [==============================] - ETA: 0s - loss: 0.9703 - accuracy: 0.6376\n",
      "Epoch 10: val_accuracy improved from 0.58819 to 0.59557, saving model to best_model.h5\n",
      "898/898 [==============================] - 194s 216ms/step - loss: 0.9703 - accuracy: 0.6376 - val_loss: 1.0925 - val_accuracy: 0.5956\n"
     ]
    }
   ],
   "source": [
    "history = model.fit(x = train_generator,epochs = epochs,validation_data = validation_generator,callbacks=[es, mc])"
   ]
  },
  {
   "cell_type": "code",
   "execution_count": 93,
   "id": "5bc1582b",
   "metadata": {},
   "outputs": [
    {
     "data": {
      "image/png": "[encoded data removed]",
      "text/plain": [
       "<Figure size 864x288 with 2 Axes>"
      ]
     },
     "metadata": {
      "needs_background": "light"
     },
     "output_type": "display_data"
    }
   ],
   "source": [
    "fig , ax = plt.subplots(1,2)\n",
    "train_acc = history.history['accuracy']\n",
    "train_loss = history.history['loss']\n",
    "fig.set_size_inches(12,4)\n",
    "\n",
    "ax[0].plot(history.history['accuracy'])\n",
    "ax[0].plot(history.history['val_accuracy'])\n",
    "ax[0].set_title('Training Accuracy vs Validation Accuracy')\n",
    "ax[0].set_ylabel('Accuracy')\n",
    "ax[0].set_xlabel('Epoch')\n",
    "ax[0].legend(['Train', 'Validation'], loc='upper left')\n",
    "\n",
    "ax[1].plot(history.history['loss'])\n",
    "ax[1].plot(history.history['val_loss'])\n",
    "ax[1].set_title('Training Loss vs Validation Loss')\n",
    "ax[1].set_ylabel('Loss') \n",
    "ax[1].set_xlabel('Epoch')\n",
    "ax[1].legend(['Train', 'Validation'], loc='upper left')\n",
    "\n",
    "plt.show()"
   ]
  },
  {
   "cell_type": "code",
   "execution_count": 94,
   "id": "680b0920",
   "metadata": {},
   "outputs": [],
   "source": [
    "model = load_model('best_model.h5')"
   ]
  },
  {
   "cell_type": "code",
   "execution_count": 95,
   "id": "a4e854f4",
   "metadata": {},
   "outputs": [],
   "source": [
    "from tensorflow.keras.applications import VGG16, InceptionResNetV2\n",
    "from tensorflow.keras.callbacks import EarlyStopping\n",
    "from tensorflow.keras.callbacks import ModelCheckpoint\n",
    "from tensorflow.keras.models import load_model\n",
    "from keras import regularizers\n",
    "from tensorflow.keras.optimizers import Adam,RMSprop,SGD,Adamax"
   ]
  },
  {
   "cell_type": "code",
   "execution_count": 97,
   "id": "1773d6be",
   "metadata": {},
   "outputs": [],
   "source": [
    "from tensorflow.keras.preprocessing import image"
   ]
  },
  {
   "cell_type": "code",
   "execution_count": 107,
   "id": "ab7c2a2d",
   "metadata": {},
   "outputs": [
    {
     "name": "stdout",
     "output_type": "stream",
     "text": [
      "(48, 48)\n"
     ]
    },
    {
     "data": {
      "image/png": "[encoded data removed]",
      "text/plain": [
       "<Figure size 432x288 with 1 Axes>"
      ]
     },
     "metadata": {
      "needs_background": "light"
     },
     "output_type": "display_data"
    }
   ],
   "source": [
    "img = image.load_img(\"C:\\\\Users\\\\ayushi arora\\\\Documents\\\\DLNLP 9 GRP\\\\Emotion-detection-master\\\\src\\\\data\\\\test\\\\happy\\\\PrivateTest_218533.jpg\",target_size = (48,48),color_mode = \"grayscale\")\n",
    "img = np.array(img)\n",
    "plt.imshow(img)\n",
    "print(img.shape) #prints (48,48) that is the shape of our image"
   ]
  },
  {
   "cell_type": "code",
   "execution_count": 108,
   "id": "031f8645",
   "metadata": {},
   "outputs": [],
   "source": [
    "label_dict = {0:'Angry',1:'Disgust',2:'Fear',3:'Happy',4:'Neutral',5:'Sad',6:'Surprise'}"
   ]
  },
  {
   "cell_type": "code",
   "execution_count": 109,
   "id": "88c77ff5",
   "metadata": {},
   "outputs": [
    {
     "name": "stdout",
     "output_type": "stream",
     "text": [
      "1/1 [==============================] - 0s 23ms/step\n",
      "[0.0, 0.0, 0.0, 1.0, 0.0, 0.0, 0.0]\n"
     ]
    }
   ],
   "source": [
    "mg = np.expand_dims(img,axis = 0) #makes image shape (1,48,48)\n",
    "img = img.reshape(1,48,48,1)\n",
    "result = model.predict(img)\n",
    "result = list(result[0])\n",
    "print(result)"
   ]
  },
  {
   "cell_type": "code",
   "execution_count": 110,
   "id": "19f9255a",
   "metadata": {},
   "outputs": [
    {
     "name": "stdout",
     "output_type": "stream",
     "text": [
      "Happy\n"
     ]
    }
   ],
   "source": [
    "img_index = result.index(max(result))\n",
    "print(label_dict[img_index])\n",
    "plt.show()"
   ]
  },
  {
   "cell_type": "code",
   "execution_count": 111,
   "id": "1b28b3f4",
   "metadata": {},
   "outputs": [
    {
     "name": "stdout",
     "output_type": "stream",
     "text": [
      "898/898 [==============================] - 42s 46ms/step - loss: 0.7266 - accuracy: 0.7423\n",
      "225/225 [==============================] - 11s 47ms/step - loss: 1.0925 - accuracy: 0.5956\n",
      "final train accuracy = 74.23 , validation accuracy = 59.56\n"
     ]
    }
   ],
   "source": [
    "train_loss, train_acc = model.evaluate(train_generator)\n",
    "test_loss, test_acc   = model.evaluate(validation_generator)\n",
    "print(\"final train accuracy = {:.2f} , validation accuracy = {:.2f}\".format(train_acc*100, test_acc*100))"
   ]
  },
  {
   "cell_type": "code",
   "execution_count": null,
   "id": "cf5b7d7a",
   "metadata": {},
   "outputs": [],
   "source": []
  }
 ],
 "metadata": {
  "kernelspec": {
   "display_name": "Python 3",
   "language": "python",
   "name": "python3"
  },
  "language_info": {
   "codemirror_mode": {
    "name": "ipython",
    "version": 3
   },
   "file_extension": ".py",
   "mimetype": "text/x-python",
   "name": "python",
   "nbconvert_exporter": "python",
   "pygments_lexer": "ipython3",
   "version": "3.8.8"
  }
 },
 "nbformat": 4,
 "nbformat_minor": 5
}
